{
 "cells": [
  {
   "cell_type": "code",
   "execution_count": null,
   "metadata": {},
   "outputs": [],
   "source": [
    "import random\n",
    "import spotipy as spy\n",
    "from spotipy.oauth2 import SpotifyOAuth, SpotifyClientCredentials\n",
    "from datetime import date\n"
   ]
  },
  {
   "cell_type": "code",
   "execution_count": null,
   "metadata": {},
   "outputs": [],
   "source": [
    "scope = \"user-library-read\"\n",
    "\n",
    "# sp = spy.Spotify(auth_manager=SpotifyOAuth(scope=scope))\n",
    "with open('tokenfile') as file:\n",
    "    client_id, client_secret, redir = file.readlines()\n",
    "sp = spy.Spotify(auth_manager=SpotifyOAuth(client_id=client_id, \n",
    "                                               client_secret=client_secret,\n",
    "                                               redirect_uri=redir))\n",
    "\n",
    "playlists = sp.user_playlists('spotify')\n",
    "playlist = random.choice(playlists['items'])\n",
    "playlist = playlists['items'][0]\n",
    "\n",
    "print(f\"Selected playlist is: {playlist['name']}\")\n",
    "\n",
    "    "
   ]
  },
  {
   "cell_type": "code",
   "execution_count": null,
   "metadata": {},
   "outputs": [],
   "source": [
    "random.seed(str(date.today()))\n",
    "songlist = sp.playlist(playlist_id=playlist['id'])['tracks']['items']\n",
    "song = random.choice(songlist)\n",
    "print(f\"Selected song is: {song['track']['name']} - {song['track']['artists'][0]['name']}\")"
   ]
  }
 ],
 "metadata": {
  "kernelspec": {
   "display_name": "Python 3",
   "language": "python",
   "name": "python3"
  },
  "language_info": {
   "codemirror_mode": {
    "name": "ipython",
    "version": 3
   },
   "file_extension": ".py",
   "mimetype": "text/x-python",
   "name": "python",
   "nbconvert_exporter": "python",
   "pygments_lexer": "ipython3",
   "version": "3.9.13"
  },
  "orig_nbformat": 4
 },
 "nbformat": 4,
 "nbformat_minor": 2
}
