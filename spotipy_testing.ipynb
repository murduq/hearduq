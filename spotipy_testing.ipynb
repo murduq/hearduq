{
 "cells": [
  {
   "cell_type": "code",
   "execution_count": null,
   "metadata": {},
   "outputs": [],
   "source": [
    "import random, webbrowser\n",
    "import spotipy as spy\n",
    "from spotipy.oauth2 import SpotifyOAuth, SpotifyClientCredentials\n",
    "from datetime import date"
   ]
  },
  {
   "cell_type": "code",
   "execution_count": null,
   "metadata": {},
   "outputs": [],
   "source": [
    "scope = \"user-library-read\"\n",
    "\n",
    "# sp = spy.Spotify(auth_manager=SpotifyOAuth(scope=scope))\n",
    "with open('tokenfile') as file:\n",
    "    client_id, client_secret, redir = file.read().splitlines()\n",
    "sp = spy.Spotify(auth_manager=SpotifyOAuth(client_id=client_id, \n",
    "                                            client_secret=client_secret,\n",
    "                                            redirect_uri=redir))\n",
    "\n",
    "playlists = sp.user_playlists('spotify')\n",
    "playlist = random.choice(playlists['items'])\n",
    "playlist = playlists['items'][0]\n",
    "\n",
    "print(f\"Selected playlist is: {playlist['name']}\")\n",
    "\n",
    "    "
   ]
  },
  {
   "cell_type": "code",
   "execution_count": null,
   "metadata": {},
   "outputs": [],
   "source": [
    "random.seed(str(date.today()))\n",
    "songlist = sp.playlist(playlist_id=playlist['id'])['tracks']['items']\n",
    "song = random.choice(songlist)\n",
    "print(f\"Selected song is: {song['track']['name']} - {song['track']['artists'][0]['name']}\")"
   ]
  },
  {
   "cell_type": "code",
   "execution_count": null,
   "metadata": {},
   "outputs": [],
   "source": [
    "song['track'].keys()"
   ]
  },
  {
   "cell_type": "code",
   "execution_count": null,
   "metadata": {},
   "outputs": [],
   "source": [
    "song['track']['preview_url']"
   ]
  },
  {
   "cell_type": "code",
   "execution_count": null,
   "metadata": {},
   "outputs": [],
   "source": [
    "from IPython.display import Audio\n",
    "Audio(url=song['track']['preview_url'])"
   ]
  },
  {
   "cell_type": "code",
   "execution_count": null,
   "metadata": {},
   "outputs": [],
   "source": [
    "time_to_play = 1\n",
    "guesses = 0\n",
    "while user_guess.lower() != song['track']['name'].lower():\n",
    "    time_to_play += guesses\n",
    "    guesses += 1\n",
    "    user_guess = input()\n",
    "print(f\"You got it dude! ({guesses} guesses and {time_to_play}s played)\")"
   ]
  }
 ],
 "metadata": {
  "kernelspec": {
   "display_name": "Python 3",
   "language": "python",
   "name": "python3"
  },
  "language_info": {
   "codemirror_mode": {
    "name": "ipython",
    "version": 3
   },
   "file_extension": ".py",
   "mimetype": "text/x-python",
   "name": "python",
   "nbconvert_exporter": "python",
   "pygments_lexer": "ipython3",
   "version": "3.10.11"
  },
  "orig_nbformat": 4,
  "vscode": {
   "interpreter": {
    "hash": "e7370f93d1d0cde622a1f8e1c04877d8463912d04d973331ad4851f04de6915a"
   }
  }
 },
 "nbformat": 4,
 "nbformat_minor": 2
}
